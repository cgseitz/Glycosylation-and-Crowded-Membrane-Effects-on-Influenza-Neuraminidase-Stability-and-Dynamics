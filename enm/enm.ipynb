{
 "cells": [
  {
   "cell_type": "code",
   "execution_count": 1,
   "metadata": {},
   "outputs": [],
   "source": [
    "#import sys\n",
    "#sys.path.remove('/net/gpfs-amarolab/cseitz/from_jam/projects/phage/2_simulation_files/prody')\n",
    "#!{sys.executable} -m pip uninstall prody\n",
    "#!{sys.executable} -m pip install prody --user\n",
    "#sys.path.append('/home/cseitz/.local/bin')\n",
    "#!{sys.executable} -m pip install ./ProDy --user"
   ]
  },
  {
   "cell_type": "code",
   "execution_count": 2,
   "metadata": {},
   "outputs": [],
   "source": [
    "#pip install -U prody"
   ]
  },
  {
   "cell_type": "code",
   "execution_count": 67,
   "metadata": {},
   "outputs": [
    {
     "name": "stdout",
     "output_type": "stream",
     "text": [
      "<module 'prody' from '/home/cseitz/.local/lib/python3.7/site-packages/prody/__init__.py'>\n"
     ]
    }
   ],
   "source": [
    "from prody import *\n",
    "from matplotlib.pylab import *\n",
    "import itertools\n",
    "import matplotlib.pylab as pylab\n",
    "params = {'legend.fontsize': 'x-large',\n",
    "          'figure.figsize': (15, 15),\n",
    "         'axes.labelsize': 'x-large',\n",
    "         'axes.titlesize':'x-large',\n",
    "         'xtick.labelsize':'x-large',\n",
    "         'ytick.labelsize':'x-large',\n",
    "         'font.weight':'medium', \n",
    "         'xtick.major.size':8,\n",
    "         'ytick.major.size':8}\n",
    "pylab.rcParams.update(params)\n",
    "print(prody)\n",
    "ion() # turn interactive mode on"
   ]
  },
  {
   "cell_type": "markdown",
   "metadata": {},
   "source": [
    "load the phage protein sheet, and select only the alpha carbons. I am going to try making GNM and ANM with all atoms and only with alpha carbons"
   ]
  },
  {
   "cell_type": "code",
   "execution_count": 28,
   "metadata": {},
   "outputs": [
    {
     "name": "stderr",
     "output_type": "stream",
     "text": [
      "@> 30101 atoms and 1 coordinate set(s) were parsed in 0.24s.\n",
      "@> 28328 atoms and 1 coordinate set(s) were parsed in 0.22s.\n"
     ]
    },
    {
     "data": {
      "text/plain": [
       "<Selection: 'calpha' from unglycosylated_rep1 (1876 atoms)>"
      ]
     },
     "execution_count": 28,
     "metadata": {},
     "output_type": "execute_result"
    }
   ],
   "source": [
    "glycosylated = parsePDB('glycosylated_rep1.pdb')\n",
    "glycosylated\n",
    "gall = glycosylated.select('all')\n",
    "gall\n",
    "galphas = glycosylated.select('calpha')\n",
    "galphas\n",
    "\n",
    "unglycosylated = parsePDB('unglycosylated_rep1.pdb')\n",
    "unglycosylated\n",
    "ugall = unglycosylated.select('all')\n",
    "ugall\n",
    "ugalphas = unglycosylated.select('calpha')\n",
    "ugalphas"
   ]
  },
  {
   "cell_type": "markdown",
   "metadata": {},
   "source": [
    "instantiate a Gaussian network matrix (GNM) instance"
   ]
  },
  {
   "cell_type": "code",
   "execution_count": 29,
   "metadata": {},
   "outputs": [],
   "source": [
    "gnmgall = GNM('Glycosylatedall')\n",
    "gnmgalphas = GNM('Glycosylatedalphas')\n",
    "\n",
    "gnmugall = GNM('Unglycosylatedall')\n",
    "gnmugalphas = GNM('Unglycosylatedalphas')"
   ]
  },
  {
   "cell_type": "markdown",
   "metadata": {},
   "source": [
    "The Kirchoff matrix, also known as a Laplacian matrix, is simply the matrix representation of a graph. To do GNM we need to create a Kirchoff adjacency matrix for the for a protein defining the proximity of residues in space. Inverting this matrix gives us the cross correlations of the atomic fluctuations."
   ]
  },
  {
   "cell_type": "code",
   "execution_count": 31,
   "metadata": {},
   "outputs": [
    {
     "name": "stderr",
     "output_type": "stream",
     "text": [
      "@> Kirchhoff was built in 19.31s.\n",
      "@> Kirchhoff was built in 0.07s.\n",
      "@> Kirchhoff was built in 17.81s.\n",
      "@> Kirchhoff was built in 0.07s.\n"
     ]
    }
   ],
   "source": [
    "gnmgall.buildKirchhoff(gall)\n",
    "gnmgalphas.buildKirchhoff(galphas)\n",
    "\n",
    "gnmugall.buildKirchhoff(ugall)\n",
    "gnmugalphas.buildKirchhoff(ugalphas)"
   ]
  },
  {
   "cell_type": "markdown",
   "metadata": {},
   "source": [
    "A normal mode of a system is a pattern describing how the system moves sinusoidally and with the same frequency and with fixed phase relation. This function calculates the normal modes from the Kirchoff matrix. In biological terms, the modes describe the dynamics of the system, such as structural changes or atomic motions."
   ]
  },
  {
   "cell_type": "code",
   "execution_count": 32,
   "metadata": {},
   "outputs": [
    {
     "name": "stderr",
     "output_type": "stream",
     "text": [
      "@> 10 modes were calculated in 4015.76s.\n",
      "@> 10 modes were calculated in 0.25s.\n",
      "@> 10 modes were calculated in 2929.89s.\n",
      "@> 10 modes were calculated in 0.30s.\n"
     ]
    }
   ],
   "source": [
    "gnmgall.calcModes(n_modes=10, zeros=False, turbo=True)\n",
    "gnmgalphas.calcModes(n_modes=10, zeros=False, turbo=True)\n",
    "\n",
    "gnmugall.calcModes(n_modes=10, zeros=False, turbo=True)\n",
    "gnmugalphas.calcModes(n_modes=10, zeros=False, turbo=True)"
   ]
  },
  {
   "cell_type": "markdown",
   "metadata": {},
   "source": [
    "Calculate the eigenvectors and eigenvalues of the Kirchoff matrix, and round to three decimal places"
   ]
  },
  {
   "cell_type": "code",
   "execution_count": 33,
   "metadata": {},
   "outputs": [
    {
     "data": {
      "text/plain": [
       "array([[ 0.0701, -0.0827, -0.0091, ..., -0.0256,  0.0186,  0.0043],\n",
       "       [ 0.0701, -0.0827, -0.0091, ..., -0.0256,  0.0186,  0.0043],\n",
       "       [ 0.0699, -0.0808, -0.0088, ..., -0.0235,  0.0172,  0.0039],\n",
       "       ...,\n",
       "       [-0.0102, -0.0009, -0.0171, ..., -0.0035,  0.0002,  0.0744],\n",
       "       [-0.0102, -0.0007, -0.0163, ..., -0.0039,  0.0002,  0.0787],\n",
       "       [-0.0101, -0.    , -0.0117, ..., -0.0044,  0.0002,  0.0718]])"
      ]
     },
     "execution_count": 33,
     "metadata": {},
     "output_type": "execute_result"
    }
   ],
   "source": [
    "gnmgall.getEigvecs().round(4)\n",
    "gnmgalphas.getEigvecs().round(4)\n",
    "\n",
    "gnmugall.getEigvecs().round(4)\n",
    "gnmugalphas.getEigvecs().round(4)"
   ]
  },
  {
   "cell_type": "code",
   "execution_count": 86,
   "metadata": {},
   "outputs": [
    {
     "name": "stdout",
     "output_type": "stream",
     "text": [
      "0.34959\n",
      "0.02608\n",
      "0.35233\n",
      "0.02612\n"
     ]
    }
   ],
   "source": [
    "print(gnmgall[0].getEigval().round(5))\n",
    "print(gnmgalphas[0].getEigval().round(5))\n",
    "\n",
    "print(gnmugall[0].getEigval().round(5))\n",
    "print(gnmugalphas[0].getEigval().round(5))"
   ]
  },
  {
   "cell_type": "markdown",
   "metadata": {},
   "source": [
    "Here, we see that the eigenvalues for the systems without glycans are slightly higher than for those with glycans. Smaller eigenvalues should mean stiffer systems, so our results say that glycans make the proteins more rigid."
   ]
  },
  {
   "cell_type": "markdown",
   "metadata": {},
   "source": [
    "The covariance matrix gives the relation between each pair of elements in a vector. We use the covariance matrix to determine the variance between the system members for each of the modes that are calculated two cells above, rounded to two decimal places."
   ]
  },
  {
   "cell_type": "code",
   "execution_count": 34,
   "metadata": {},
   "outputs": [
    {
     "data": {
      "text/plain": [
       "array([[ 0.341,  0.341,  0.331, ..., -0.026, -0.026, -0.026],\n",
       "       [ 0.341,  0.341,  0.331, ..., -0.026, -0.026, -0.026],\n",
       "       [ 0.331,  0.331,  0.322, ..., -0.026, -0.026, -0.026],\n",
       "       ...,\n",
       "       [-0.026, -0.026, -0.026, ...,  0.012,  0.013,  0.012],\n",
       "       [-0.026, -0.026, -0.026, ...,  0.013,  0.013,  0.012],\n",
       "       [-0.026, -0.026, -0.026, ...,  0.012,  0.012,  0.012]])"
      ]
     },
     "execution_count": 34,
     "metadata": {},
     "output_type": "execute_result"
    }
   ],
   "source": [
    "#gnm.getCovariance().round(2)\n",
    "\n",
    "gnmgall.getCovariance().round(3)\n",
    "gnmgalphas.getCovariance().round(3)\n",
    "\n",
    "gnmugall.getCovariance().round(3)\n",
    "gnmugalphas.getCovariance().round(3)"
   ]
  },
  {
   "cell_type": "markdown",
   "metadata": {},
   "source": [
    "Let's look at the fraction of variance explained by each of the top five modes. The fraction of variance is the ratio along along a mode to the trace of the covariance matrix of the model. Thus the top five modes account for 86% of the total variance. I only created 10 modes so these account for all of the variance."
   ]
  },
  {
   "cell_type": "code",
   "execution_count": 61,
   "metadata": {},
   "outputs": [
    {
     "name": "stdout",
     "output_type": "stream",
     "text": [
      "1.0\n",
      "the fraction of variance for the first 10 modes in the gall system is:\n",
      "0.58\n",
      "0.09\n",
      "0.08\n",
      "0.05\n",
      "0.05\n",
      "0.04\n",
      "0.03\n",
      "0.03\n",
      "0.03\n",
      "0.02\n",
      "the fraction of variance for the first 10 modes in the galphas system is:\n",
      "0.63\n",
      "0.08\n",
      "0.06\n",
      "0.06\n",
      "0.03\n",
      "0.03\n",
      "0.03\n",
      "0.03\n",
      "0.02\n",
      "0.02\n",
      "the fraction of variance for the first 10 modes in the ugall system is:\n",
      "0.66\n",
      "0.08\n",
      "0.05\n",
      "0.05\n",
      "0.03\n",
      "0.03\n",
      "0.03\n",
      "0.02\n",
      "0.02\n",
      "0.02\n",
      "the fraction of variance for the first 10 modes in the ugalphas system is:\n",
      "0.63\n",
      "0.08\n",
      "0.06\n",
      "0.06\n",
      "0.03\n",
      "0.03\n",
      "0.03\n",
      "0.03\n",
      "0.02\n",
      "0.02\n"
     ]
    }
   ],
   "source": [
    "\n",
    "for mode in gnmgall[:1]:\n",
    "   ....:     print(calcFractVariance(mode).round(0))\n",
    "   ....: \n",
    "\n",
    "print(\"the fraction of variance for the first 10 modes in the gall system is:\")\n",
    "for mode in gnmgall[:10]:\n",
    "   ....:     print(calcFractVariance(mode).round(2))\n",
    "   ....: \n",
    "print(\"the fraction of variance for the first 10 modes in the galphas system is:\")\n",
    "for mode in gnmgalphas[:10]:\n",
    "   ....:     print(calcFractVariance(mode).round(2))\n",
    "   ....: \n",
    "print(\"the fraction of variance for the first 10 modes in the ugall system is:\")\n",
    "for mode in gnmugall[:10]:\n",
    "   ....:     print(calcFractVariance(mode).round(2))\n",
    "   ....: \n",
    "print(\"the fraction of variance for the first 10 modes in the ugalphas system is:\")\n",
    "for mode in gnmugalphas[:10]:\n",
    "   ....:     print(calcFractVariance(mode).round(2))\n",
    "   ....: "
   ]
  },
  {
   "cell_type": "markdown",
   "metadata": {},
   "source": [
    "Intriguingly, we can figure out what percentage of the atoms are involved in that mode's motion. If a mode has a collectivity score of 0.6, that means that 60% of the atoms are involved in that mode's motion. Here we are plotting the collectivity score for the first five modes. The collectivity is defined by eq. 5 from \"Collective protein dynamics and nuclear spin relaxation\" by Rafael Brüschweiler, J. Chem. Phys. 1995"
   ]
  },
  {
   "cell_type": "code",
   "execution_count": 65,
   "metadata": {},
   "outputs": [
    {
     "name": "stdout",
     "output_type": "stream",
     "text": [
      "[0.33693823 0.18450637 0.01627734 0.38206813 0.44580831]\n",
      "[0.28503252 0.20255761 0.4421695  0.52385825 0.2756594 ]\n",
      "[0.2931127  0.16898943 0.56837268 0.58968398 0.07283829]\n",
      "[0.28550021 0.2038629  0.44858416 0.52889897 0.29340629]\n"
     ]
    }
   ],
   "source": [
    "print(calcCollectivity(gnmgall[:5]))\n",
    "print(calcCollectivity(gnmgalphas[:5]))\n",
    "\n",
    "print(calcCollectivity(gnmugall[:5]))\n",
    "print(calcCollectivity(gnmugalphas[:5]))"
   ]
  },
  {
   "cell_type": "markdown",
   "metadata": {},
   "source": [
    "This is a simple histogram showing how much variance each of the 10 modes contributes to the overall variance."
   ]
  },
  {
   "cell_type": "code",
   "execution_count": 75,
   "metadata": {},
   "outputs": [
    {
     "data": {
      "image/png": "[encoded data removed]",
      "text/plain": [
       "<Figure size 1080x1080 with 1 Axes>"
      ]
     },
     "metadata": {
      "needs_background": "light"
     },
     "output_type": "display_data"
    }
   ],
   "source": [
    "showFractVars(gnmgall)\n",
    "plt.savefig('./fractvarsgall.png')"
   ]
  },
  {
   "cell_type": "code",
   "execution_count": 71,
   "metadata": {},
   "outputs": [
    {
     "data": {
      "image/png": "[encoded data removed]",
      "text/plain": [
       "<Figure size 1080x1080 with 1 Axes>"
      ]
     },
     "metadata": {
      "needs_background": "light"
     },
     "output_type": "display_data"
    }
   ],
   "source": [
    "showFractVars(gnmgalphas)\n",
    "plt.savefig('./fractvarsgalphas.png')"
   ]
  },
  {
   "cell_type": "code",
   "execution_count": 72,
   "metadata": {},
   "outputs": [
    {
     "data": {
      "image/png": "[encoded data removed]",
      "text/plain": [
       "<Figure size 1080x1080 with 1 Axes>"
      ]
     },
     "metadata": {
      "needs_background": "light"
     },
     "output_type": "display_data"
    }
   ],
   "source": [
    "showFractVars(gnmugall)\n",
    "plt.savefig('./fractvarsugall.png')"
   ]
  },
  {
   "cell_type": "markdown",
   "metadata": {},
   "source": [
    "This is a simple graph showing how many modes you need to take to capture a certain amount of variance. For example, taking 5 modes captures 86% of the total variance."
   ]
  },
  {
   "cell_type": "code",
   "execution_count": 73,
   "metadata": {},
   "outputs": [
    {
     "data": {
      "image/png": "[encoded data removed]",
      "text/plain": [
       "<Figure size 1080x1080 with 1 Axes>"
      ]
     },
     "metadata": {
      "needs_background": "light"
     },
     "output_type": "display_data"
    }
   ],
   "source": [
    "showFractVars(gnmugalphas)\n",
    "plt.savefig('./fractvarsugalphas.png')"
   ]
  },
  {
   "cell_type": "markdown",
   "metadata": {},
   "source": [
    "# ANM section"
   ]
  },
  {
   "cell_type": "markdown",
   "metadata": {},
   "source": [
    "Here we calculate the ANM modes. This takes about 5 hours."
   ]
  },
  {
   "cell_type": "code",
   "execution_count": 96,
   "metadata": {},
   "outputs": [
    {
     "name": "stdout",
     "output_type": "stream",
     "text": [
      "[[ -7.264  20.904 -22.285]\n",
      " [-10.823  22.066 -21.213]\n",
      " [-13.598  19.661 -19.995]\n",
      " ...\n",
      " [ 22.331 -10.402 136.915]\n",
      " [ 23.89   -7.578 134.897]\n",
      " [ 25.886  -7.52  132.704]]\n",
      "[[ -7.264  20.904 -22.285]\n",
      " [-10.823  22.066 -21.213]\n",
      " [-13.598  19.661 -19.995]\n",
      " ...\n",
      " [ 22.331 -10.402 136.915]\n",
      " [ 23.89   -7.578 134.897]\n",
      " [ 25.886  -7.52  132.704]]\n"
     ]
    }
   ],
   "source": [
    "#I need to see if the eigenvalues are identical; if they are, it must be because these coords are identical\n",
    "print(coordsgalpha)\n",
    "print(coordsugalpha)"
   ]
  },
  {
   "cell_type": "code",
   "execution_count": null,
   "metadata": {},
   "outputs": [],
   "source": [
    "glycosylated = parsePDB('glycosylated_rep1.pdb')\n",
    "glycosylated\n",
    "gall = glycosylated.select('all')\n",
    "gall\n",
    "galphas = glycosylated.select('calpha')\n",
    "galphas\n",
    "\n",
    "unglycosylated = parsePDB('unglycosylated_rep1.pdb')\n",
    "unglycosylated\n",
    "ugall = unglycosylated.select('all')\n",
    "ugall\n",
    "ugalphas = unglycosylated.select('calpha')\n",
    "ugalphas"
   ]
  },
  {
   "cell_type": "code",
   "execution_count": null,
   "metadata": {},
   "outputs": [],
   "source": [
    "gnmgall = GNM('Glycosylatedall')\n",
    "gnmgalphas = GNM('Glycosylatedalphas')\n",
    "\n",
    "gnmugall = GNM('Unglycosylatedall')\n",
    "gnmugalphas = GNM('Unglycosylatedalphas')"
   ]
  },
  {
   "cell_type": "code",
   "execution_count": null,
   "metadata": {},
   "outputs": [],
   "source": [
    "gnmgall.buildKirchhoff(gall)\n",
    "gnmgalphas.buildKirchhoff(galphas)\n",
    "\n",
    "gnmugall.buildKirchhoff(ugall)\n",
    "gnmugalphas.buildKirchhoff(ugalphas)"
   ]
  },
  {
   "cell_type": "code",
   "execution_count": 3,
   "metadata": {},
   "outputs": [
    {
     "name": "stderr",
     "output_type": "stream",
     "text": [
      "@> Hessian was built in 57.42s.\n",
      "@> 10 modes were calculated in 18070.41s.\n"
     ]
    }
   ],
   "source": [
    "#anm = ANM('Phage')\n",
    "#anm.buildHessian(calphas)\n",
    "#anm.calcModes(n_modes=10, zeros=False, turbo=True)\n",
    "#coords = getCoords(calphas)"
   ]
  },
  {
   "cell_type": "code",
   "execution_count": 94,
   "metadata": {},
   "outputs": [],
   "source": [
    "#coordsgall = glycosylated.getCoords()\n",
    "#coordsgalpha = getCoords(calphas)\n",
    "\n",
    "#coordsugall = unglycosylated.getCoords()\n",
    "#coordsugalpha = getCoords(calphas)"
   ]
  },
  {
   "cell_type": "code",
   "execution_count": 100,
   "metadata": {},
   "outputs": [
    {
     "name": "stderr",
     "output_type": "stream",
     "text": [
      "@> Hessian was built in 248.07s.\n",
      "@> 10 modes were calculated in 41584.83s.\n",
      "@> Hessian was built in 1.04s.\n",
      "@> 10 modes were calculated in 8.86s.\n",
      "@> Hessian was built in 219.42s.\n",
      "@> 10 modes were calculated in 35407.98s.\n",
      "@> Hessian was built in 1.09s.\n",
      "@> 10 modes were calculated in 12.17s.\n"
     ]
    }
   ],
   "source": [
    "anmgall = ANM('Glycosylatedall')\n",
    "#anmgall.buildHessian(coordsgall)\n",
    "anmgall.buildHessian(gall)\n",
    "anmgall.calcModes(n_modes=10, zeros=False, turbo=True)\n",
    "#coords = getCoords(all)\n",
    "anmgalphas = ANM('Glycosylatedalphas')\n",
    "#anmgalphas.buildHessian(coordsgalpha)\n",
    "anmgalphas.buildHessian(galphas)\n",
    "anmgalphas.calcModes(n_modes=10, zeros=False, turbo=True)\n",
    "#coords = getCoords(calphas)\n",
    "\n",
    "anmugall = ANM('Unglycosylatedall')\n",
    "#anmugall.buildHessian(coordsgall)\n",
    "anmugall.buildHessian(ugall)\n",
    "anmugall.calcModes(n_modes=10, zeros=False, turbo=True)\n",
    "#coords = getCoords(all)\n",
    "anmugalphas = ANM('Unglycosylatedalphas')\n",
    "#anmugalphas.buildHessian(coordsgalpha)\n",
    "anmugalphas.buildHessian(ugalphas)\n",
    "anmugalphas.calcModes(n_modes=10, zeros=False, turbo=True)\n",
    "#coords = getCoords(calphas)"
   ]
  },
  {
   "cell_type": "code",
   "execution_count": 101,
   "metadata": {},
   "outputs": [
    {
     "name": "stdout",
     "output_type": "stream",
     "text": [
      "0.02609\n",
      "0.00114\n",
      "0.02281\n",
      "0.00114\n"
     ]
    }
   ],
   "source": [
    "print(anmgall[0].getEigval().round(5))\n",
    "print(anmgalphas[0].getEigval().round(5))\n",
    "\n",
    "print(anmugall[0].getEigval().round(5))\n",
    "print(anmugalphas[0].getEigval().round(5))"
   ]
  },
  {
   "cell_type": "code",
   "execution_count": null,
   "metadata": {},
   "outputs": [],
   "source": []
  }
 ],
 "metadata": {
  "kernelspec": {
   "display_name": "Python 3",
   "language": "python",
   "name": "python3"
  },
  "language_info": {
   "codemirror_mode": {
    "name": "ipython",
    "version": 3
   },
   "file_extension": ".py",
   "mimetype": "text/x-python",
   "name": "python",
   "nbconvert_exporter": "python",
   "pygments_lexer": "ipython3",
   "version": "3.7.4"
  }
 },
 "nbformat": 4,
 "nbformat_minor": 2
}
